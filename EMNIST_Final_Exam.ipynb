{
  "nbformat": 4,
  "nbformat_minor": 0,
  "metadata": {
    "colab": {
      "provenance": [],
      "toc_visible": true,
      "gpuType": "T4",
      "authorship_tag": "ABX9TyNoRnTZpvWGKYypG5qKlo3n",
      "include_colab_link": true
    },
    "kernelspec": {
      "name": "python3",
      "display_name": "Python 3"
    },
    "language_info": {
      "name": "python"
    },
    "accelerator": "GPU"
  },
  "cells": [
    {
      "cell_type": "markdown",
      "metadata": {
        "id": "view-in-github",
        "colab_type": "text"
      },
      "source": [
        "<a href=\"https://colab.research.google.com/github/cschwi/ds_job_app/blob/main/EMNIST_Final_Exam.ipynb\" target=\"_parent\"><img src=\"https://colab.research.google.com/assets/colab-badge.svg\" alt=\"Open In Colab\"/></a>"
      ]
    },
    {
      "cell_type": "markdown",
      "source": [
        "# CNN for EMNIST"
      ],
      "metadata": {
        "id": "A7xDuG5U3iO4"
      }
    },
    {
      "cell_type": "code",
      "source": [
        "import os\n",
        "\n",
        "import numpy as np\n",
        "import requests\n",
        "import pickle\n",
        "\n",
        "import matplotlib.pyplot as plt\n",
        "\n",
        "import torch\n",
        "import torch.nn as nn\n",
        "import torch.nn.functional as F\n",
        "from torch.utils.data import TensorDataset, Dataset, DataLoader\n",
        "import torchvision\n",
        "\n",
        "# Setting seed for reproducibility\n",
        "torch.manual_seed(123987)"
      ],
      "metadata": {
        "colab": {
          "base_uri": "https://localhost:8080/"
        },
        "id": "bV-ntQR73ojW",
        "outputId": "f6b05bc6-2c8f-4991-be89-c4f47cda1c3d"
      },
      "execution_count": null,
      "outputs": [
        {
          "output_type": "execute_result",
          "data": {
            "text/plain": [
              "<torch._C.Generator at 0x7df63bfad9f0>"
            ]
          },
          "metadata": {},
          "execution_count": 1
        }
      ]
    },
    {
      "cell_type": "code",
      "source": [
        "device = torch.device(\"cuda\") if torch.cuda.is_available() else torch.device(\"cpu\")\n",
        "print(\"device:\", device)"
      ],
      "metadata": {
        "colab": {
          "base_uri": "https://localhost:8080/"
        },
        "id": "11JHp2433q3v",
        "outputId": "63f9557f-13f9-4898-d40a-0fda90a66459"
      },
      "execution_count": null,
      "outputs": [
        {
          "output_type": "stream",
          "name": "stdout",
          "text": [
            "device: cuda\n"
          ]
        }
      ]
    },
    {
      "cell_type": "markdown",
      "source": [
        "# Loading EMNIST data\n"
      ],
      "metadata": {
        "id": "XIM3EAuZ4qN0"
      }
    },
    {
      "cell_type": "code",
      "source": [
        "emnist_transform = torchvision.transforms.Compose([\n",
        "    torchvision.transforms.ToTensor()\n",
        "    # There was more here\n",
        "])"
      ],
      "metadata": {
        "id": "27Ouou7a4sus"
      },
      "execution_count": null,
      "outputs": []
    },
    {
      "cell_type": "code",
      "source": [
        "## Loading EMNIST data\n",
        "## PyTorch uses the Dataset class from torch.utils.data to handle access to datasets\n",
        "data_train = torchvision.datasets.EMNIST( # Training set\n",
        "    root='./data/',\n",
        "    train=True,\n",
        "    download=True,\n",
        "    transform=emnist_transform,  # rotates images\n",
        "    split='letters'\n",
        ")\n",
        "\n",
        "data_test = torchvision.datasets.EMNIST( # Testing set\n",
        "    root='./data/',\n",
        "    train=False,\n",
        "    download=True,\n",
        "    transform=torchvision.transforms.ToTensor(),\n",
        "    split='letters'\n",
        ")"
      ],
      "metadata": {
        "colab": {
          "base_uri": "https://localhost:8080/"
        },
        "id": "kyatyhAY4vkL",
        "outputId": "6847f6e6-6439-4f54-9f42-602ab3fafc72"
      },
      "execution_count": null,
      "outputs": [
        {
          "output_type": "stream",
          "name": "stderr",
          "text": [
            "100%|██████████| 562M/562M [00:07<00:00, 75.3MB/s]\n"
          ]
        }
      ]
    },
    {
      "cell_type": "markdown",
      "source": [
        "Let us examine the sizes of the two datasets as well as the shape of their elements, to get a better idea of the data and make sure it was loaded properly."
      ],
      "metadata": {
        "id": "wahQSAab48US"
      }
    },
    {
      "cell_type": "code",
      "source": [
        "print(f\"Number of training images: {len(data_train)}\")\n",
        "print(f\"Number of test images:     {len(data_test)}\")\n",
        "print()\n",
        "print(\"Each data element is an (image, label) pair.\")\n",
        "print(f\"Shape of each image: {data_train[0][0].shape}\")"
      ],
      "metadata": {
        "colab": {
          "base_uri": "https://localhost:8080/"
        },
        "id": "MDIGu6AD5DIC",
        "outputId": "83d939ed-e950-42aa-95db-39a75d6e77ed"
      },
      "execution_count": null,
      "outputs": [
        {
          "output_type": "stream",
          "name": "stdout",
          "text": [
            "Number of training images: 124800\n",
            "Number of test images:     20800\n",
            "\n",
            "Each data element is an (image, label) pair.\n",
            "Shape of each image: torch.Size([1, 28, 28])\n"
          ]
        }
      ]
    },
    {
      "cell_type": "markdown",
      "source": [
        "To get a better idea of what the elements in a dataset look like, let us plot several EMNIST images."
      ],
      "metadata": {
        "id": "P0kZYh2z5Kja"
      }
    },
    {
      "cell_type": "code",
      "source": [
        "import matplotlib.pyplot as plt\n",
        "\n",
        "# Plotting function.  The argument 'images' is a tensor of\n",
        "# the form [1,28,28].  For plotting, we need flattened tensor\n",
        "# of the shape [28,28].  Hence, we use 'images[i][0]' in the\n",
        "# call of 'plt.imshow' below.\n",
        "def plot_data(images, labels):\n",
        "    cols, rows = 3, 3\n",
        "    for i in range(cols * rows):\n",
        "        plt.subplot(cols, rows, i + 1)\n",
        "        plt.tight_layout()\n",
        "        plt.imshow(images[i][0], cmap='gray')\n",
        "        plt.title(f\"Label: {labels[i]}\")\n",
        "        plt.xticks([])\n",
        "        plt.yticks([])\n",
        "        plt.axis(\"off\")\n",
        "    plt.show()"
      ],
      "metadata": {
        "id": "COPtPJwv5Ix6"
      },
      "execution_count": null,
      "outputs": []
    },
    {
      "cell_type": "code",
      "source": [
        "# Get a list of 9 images and their labels from the train data\n",
        "# starting from the index 'start_idx'\n",
        "start_idx = 500 #10994 59915\n",
        "\n",
        "data_subset = [data_train[i] for i in range(start_idx, start_idx + 9)]\n",
        "images, labels = zip(*data_subset)\n",
        "\n",
        "plot_data(images, labels)"
      ],
      "metadata": {
        "colab": {
          "base_uri": "https://localhost:8080/",
          "height": 463
        },
        "id": "BViS2kyc5NPq",
        "outputId": "605d8915-cb85-4c74-da82-d5c7e309181b"
      },
      "execution_count": null,
      "outputs": [
        {
          "output_type": "display_data",
          "data": {
            "text/plain": [
              "<Figure size 640x480 with 9 Axes>"
            ],
            "image/png": "[encoded data removed]"
          },
          "metadata": {}
        }
      ]
    },
    {
      "cell_type": "code",
      "source": [
        "# Batch sizes for training and evaluation\n",
        "batch_size_train = 64\n",
        "batch_size_test  = 1000\n",
        "\n",
        "# We can use PyTorch dataloaders to get batches from datasets\n",
        "loader_train = torch.utils.data.DataLoader(data_train, batch_size=batch_size_train, shuffle=True)\n",
        "loader_test  = torch.utils.data.DataLoader(data_test,  batch_size=batch_size_test,  shuffle=False)\n",
        "\n",
        "# Create an iterator and draw the next batch\n",
        "images, labels = next(iter(loader_train))\n",
        "print(f\"Shape of images is: {images.shape}\")\n",
        "print(f\"Shape of labels is: {labels.shape}\")\n",
        "print()\n",
        "plot_data(images, labels)"
      ],
      "metadata": {
        "colab": {
          "base_uri": "https://localhost:8080/",
          "height": 515
        },
        "id": "9FJN36AHAmTD",
        "outputId": "c12bb0eb-bac3-423b-fc94-23c11ba5853f"
      },
      "execution_count": null,
      "outputs": [
        {
          "output_type": "stream",
          "name": "stdout",
          "text": [
            "Shape of images is: torch.Size([64, 1, 28, 28])\n",
            "Shape of labels is: torch.Size([64])\n",
            "\n"
          ]
        },
        {
          "output_type": "display_data",
          "data": {
            "text/plain": [
              "<Figure size 640x480 with 9 Axes>"
            ],
            "image/png": "[encoded data removed]"
          },
          "metadata": {}
        }
      ]
    },
    {
      "cell_type": "markdown",
      "source": [
        "# Architecture"
      ],
      "metadata": {
        "id": "h8zvQb-R5x9C"
      }
    },
    {
      "cell_type": "markdown",
      "source": [
        "Next, we create the convolutional neural network (CNN) model to be used for the letter recognition."
      ],
      "metadata": {
        "id": "Z8SyJzP4506P"
      }
    },
    {
      "cell_type": "code",
      "source": [
        "class CNNet(nn.Module):\n",
        "  #pass\n",
        "  def __init__(self, input_size=28 * 28, hidden_sizes = (), output_size=27):\n",
        "      super(CNNet, self).__init__()\n",
        "      self.flatten = nn.Flatten()\n",
        "      self.conv1 = nn.Conv2d(in_channels=1, out_channels=16, kernel_size=5, stride=1, padding=1)\n",
        "      self.conv2 = nn.Conv2d(in_channels=16, out_channels=32, kernel_size=3, stride=1, padding=1)\n",
        "      self.conv3 = nn.Conv2d(in_channels=32, out_channels=32, kernel_size=3, stride=1, padding=1)\n",
        "      self.pool1 = nn.MaxPool2d(kernel_size=2)\n",
        "      self.pool2 = nn.MaxPool2d(kernel_size=2)\n",
        "      self.norm = nn.BatchNorm2d(num_features=32)\n",
        "      self.fc1 = nn.Linear(in_features=1152, out_features=128)\n",
        "\n",
        "  def forward(self, x):\n",
        "      #x = self.flatten(x)\n",
        "      x = F.relu(self.conv1(x))\n",
        "      x = self.pool1(x)\n",
        "      x = F.relu(self.conv2(x))\n",
        "      x = self.pool2(x)\n",
        "      x = self.norm(x)\n",
        "      x = F.relu(self.conv3(x))\n",
        "      x = self.flatten(x)\n",
        "      x = self.fc1(x)\n",
        "      return x"
      ],
      "metadata": {
        "id": "b3GmuNu355ff"
      },
      "execution_count": null,
      "outputs": []
    },
    {
      "cell_type": "code",
      "source": [
        "cnn_model = CNNet().to(device)"
      ],
      "metadata": {
        "id": "WtOEpe0q6IDO"
      },
      "execution_count": null,
      "outputs": []
    },
    {
      "cell_type": "code",
      "source": [
        "images, labels = next(iter(loader_train))\n",
        "print(f\"Shape of images is: {images.shape}\")\n",
        "print(f\"Shape of labels is: {labels.shape}\")\n",
        "print()"
      ],
      "metadata": {
        "colab": {
          "base_uri": "https://localhost:8080/"
        },
        "id": "LsJkSNXB6Vq_",
        "outputId": "a6064f88-c569-4e5b-88d4-f685db7479aa"
      },
      "execution_count": null,
      "outputs": [
        {
          "output_type": "stream",
          "name": "stdout",
          "text": [
            "Shape of images is: torch.Size([64, 1, 28, 28])\n",
            "Shape of labels is: torch.Size([64])\n",
            "\n"
          ]
        }
      ]
    },
    {
      "cell_type": "code",
      "source": [
        "x = images\n",
        "conv1 = nn.Conv2d(in_channels=1, out_channels=16, kernel_size=5, stride=1, padding=1)\n",
        "x = conv1(x)\n",
        "print(x.shape)"
      ],
      "metadata": {
        "colab": {
          "base_uri": "https://localhost:8080/"
        },
        "id": "n8rc5-kt6Wom",
        "outputId": "070d4940-c109-4d13-c680-a1a6d3fc44cb"
      },
      "execution_count": null,
      "outputs": [
        {
          "output_type": "stream",
          "name": "stdout",
          "text": [
            "torch.Size([64, 16, 26, 26])\n"
          ]
        }
      ]
    },
    {
      "cell_type": "code",
      "source": [
        "conv2 = nn.Conv2d(in_channels=16, out_channels=32, kernel_size=3, stride=1, padding=1)\n",
        "x = conv2(x)\n",
        "print(x.shape)"
      ],
      "metadata": {
        "colab": {
          "base_uri": "https://localhost:8080/"
        },
        "id": "EyTCScv96ag-",
        "outputId": "4b7690b0-299b-466d-c9b3-8149d6e1f29e"
      },
      "execution_count": null,
      "outputs": [
        {
          "output_type": "stream",
          "name": "stdout",
          "text": [
            "torch.Size([64, 32, 26, 26])\n"
          ]
        }
      ]
    },
    {
      "cell_type": "code",
      "source": [
        "conv3 = nn.Conv2d(in_channels=32, out_channels=32, kernel_size=3, stride=1, padding=1)\n",
        "x = conv3(x)\n",
        "print(x.shape)"
      ],
      "metadata": {
        "colab": {
          "base_uri": "https://localhost:8080/"
        },
        "id": "dniDgghE6dKW",
        "outputId": "b917c686-1b11-488e-f5de-6aa18aa8decd"
      },
      "execution_count": null,
      "outputs": [
        {
          "output_type": "stream",
          "name": "stdout",
          "text": [
            "torch.Size([64, 32, 26, 26])\n"
          ]
        }
      ]
    },
    {
      "cell_type": "code",
      "source": [
        "flatten = nn.Flatten()\n",
        "x = flatten(x)\n",
        "\n",
        "print(x.shape)\n",
        "\n",
        "# Apply the fully connected layer\n",
        "fc1 = nn.Linear(in_features=32*26*26, out_features=128)\n",
        "x = fc1(x)\n",
        "print(x.shape)"
      ],
      "metadata": {
        "colab": {
          "base_uri": "https://localhost:8080/"
        },
        "id": "40YnqP6N6f-m",
        "outputId": "f352c91a-abe6-4391-cdaf-9b383c7cf8eb"
      },
      "execution_count": null,
      "outputs": [
        {
          "output_type": "stream",
          "name": "stdout",
          "text": [
            "torch.Size([64, 21632])\n",
            "torch.Size([64, 128])\n"
          ]
        }
      ]
    },
    {
      "cell_type": "markdown",
      "source": [
        "# Training"
      ],
      "metadata": {
        "id": "HlahoUbxCGaw"
      }
    },
    {
      "cell_type": "code",
      "source": [
        "# Train 'model' through batches in one epoch using the 'criterion' loss function,\n",
        "# on the training dataset produced by the 'loader'.\n",
        "def train(model, criterion, optimizer, loader, epoch):\n",
        "    model.train()\n",
        "    running_loss = 0.0\n",
        "    for images, labels in loader:\n",
        "        images, labels = images.to(device), labels.to(device)\n",
        "        optimizer.zero_grad()\n",
        "        outputs = model(images)\n",
        "        loss = criterion(outputs, labels)\n",
        "        loss.backward()\n",
        "        optimizer.step()\n",
        "\n",
        "        running_loss += loss.item()\n",
        "    print(f\"Epoch: {epoch+1}/{num_epochs}   Training loss: {running_loss/len(loader) :.6f}\")"
      ],
      "metadata": {
        "id": "XahJLo8XCI0u"
      },
      "execution_count": null,
      "outputs": []
    },
    {
      "cell_type": "code",
      "source": [
        "# Use the cross entropy loss for the multi-class classification\n",
        "criterion = nn.CrossEntropyLoss()\n",
        "\n",
        "# SGD optimization hyperparameters\n",
        "learning_rate = 0.1\n",
        "weight_decay = 0.001\n",
        "\n",
        "# Number of epochs for training\n",
        "num_epochs = 4"
      ],
      "metadata": {
        "id": "8YH0hZb2CVp2"
      },
      "execution_count": null,
      "outputs": []
    },
    {
      "cell_type": "code",
      "source": [
        "# CNNet\n",
        "optimizer_cnn = torch.optim.SGD(cnn_model.parameters(), lr=learning_rate, weight_decay=weight_decay)\n",
        "\n",
        "for epoch in range(num_epochs):\n",
        "    train(cnn_model, criterion, optimizer_cnn, loader_train, epoch)"
      ],
      "metadata": {
        "colab": {
          "base_uri": "https://localhost:8080/"
        },
        "id": "nJ1OcEI-ChwO",
        "outputId": "d955688c-6926-4f0f-d042-598fc88dd146"
      },
      "execution_count": null,
      "outputs": [
        {
          "output_type": "stream",
          "name": "stdout",
          "text": [
            "Epoch: 1/4   Training loss: 0.390582\n",
            "Epoch: 2/4   Training loss: 0.220953\n",
            "Epoch: 3/4   Training loss: 0.196441\n",
            "Epoch: 4/4   Training loss: 0.185550\n"
          ]
        }
      ]
    },
    {
      "cell_type": "markdown",
      "source": [
        "# Testing"
      ],
      "metadata": {
        "id": "1VU6E9vsGFKu"
      }
    },
    {
      "cell_type": "code",
      "source": [
        "# Test the model\n",
        "def test(model, loader):\n",
        "    model.eval()\n",
        "    correct, total = 0, 0\n",
        "    with torch.no_grad():\n",
        "        for images, labels in loader:\n",
        "            images, labels = images.to(device), labels.to(device)\n",
        "            outputs = model(images)\n",
        "            _, predicted = torch.max(outputs, 1)\n",
        "            total += labels.size(0) # labels.size() is [1000]\n",
        "            correct += (predicted == labels).sum().item()\n",
        "    print(f\"Accuracy: {100 * correct / total:.2f}%\")"
      ],
      "metadata": {
        "id": "hp3rZHvmGHyj"
      },
      "execution_count": null,
      "outputs": []
    },
    {
      "cell_type": "code",
      "source": [
        "# Run the test function\n",
        "test(cnn_model, loader_test)"
      ],
      "metadata": {
        "colab": {
          "base_uri": "https://localhost:8080/"
        },
        "id": "dS1cjmVvGMOj",
        "outputId": "b2b4fff6-7691-4ce9-de94-2cd4cc2e9fc6"
      },
      "execution_count": null,
      "outputs": [
        {
          "output_type": "stream",
          "name": "stdout",
          "text": [
            "Accuracy: 92.56%\n"
          ]
        }
      ]
    },
    {
      "cell_type": "code",
      "source": [
        "# In case we wish to have a summary\n",
        "from torchsummary import summary\n",
        "summary(cnn_model, input_size=(1, 28, 28))"
      ],
      "metadata": {
        "colab": {
          "base_uri": "https://localhost:8080/"
        },
        "id": "MJh87po8GSdt",
        "outputId": "a709295f-bfe7-4be4-a30d-90944f90039e"
      },
      "execution_count": null,
      "outputs": [
        {
          "output_type": "stream",
          "name": "stdout",
          "text": [
            "----------------------------------------------------------------\n",
            "        Layer (type)               Output Shape         Param #\n",
            "================================================================\n",
            "            Conv2d-1           [-1, 16, 26, 26]             416\n",
            "         MaxPool2d-2           [-1, 16, 13, 13]               0\n",
            "            Conv2d-3           [-1, 32, 13, 13]           4,640\n",
            "         MaxPool2d-4             [-1, 32, 6, 6]               0\n",
            "       BatchNorm2d-5             [-1, 32, 6, 6]              64\n",
            "            Conv2d-6             [-1, 32, 6, 6]           9,248\n",
            "           Flatten-7                 [-1, 1152]               0\n",
            "            Linear-8                  [-1, 128]         147,584\n",
            "================================================================\n",
            "Total params: 161,952\n",
            "Trainable params: 161,952\n",
            "Non-trainable params: 0\n",
            "----------------------------------------------------------------\n",
            "Input size (MB): 0.00\n",
            "Forward/backward pass size (MB): 0.18\n",
            "Params size (MB): 0.62\n",
            "Estimated Total Size (MB): 0.80\n",
            "----------------------------------------------------------------\n"
          ]
        }
      ]
    }
  ]
}