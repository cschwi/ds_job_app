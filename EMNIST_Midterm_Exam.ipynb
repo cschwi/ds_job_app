{
  "nbformat": 4,
  "nbformat_minor": 0,
  "metadata": {
    "colab": {
      "provenance": [],
      "gpuType": "T4",
      "authorship_tag": "ABX9TyOpHfQIxTRgpRviSP/z4w+D",
      "include_colab_link": true
    },
    "kernelspec": {
      "name": "python3",
      "display_name": "Python 3"
    },
    "language_info": {
      "name": "python"
    },
    "accelerator": "GPU"
  },
  "cells": [
    {
      "cell_type": "markdown",
      "metadata": {
        "id": "view-in-github",
        "colab_type": "text"
      },
      "source": [
        "<a href=\"https://colab.research.google.com/github/cschwi/ds_job_app/blob/main/EMNIST_Midterm_Exam.ipynb\" target=\"_parent\"><img src=\"https://colab.research.google.com/assets/colab-badge.svg\" alt=\"Open In Colab\"/></a>"
      ]
    },
    {
      "cell_type": "markdown",
      "metadata": {
        "id": "c560ea58afcd1255"
      },
      "source": [
        "# Recognition of Handwritten Letters"
      ]
    },
    {
      "cell_type": "code",
      "execution_count": null,
      "metadata": {
        "colab": {
          "base_uri": "https://localhost:8080/"
        },
        "id": "7644068a50938e51",
        "outputId": "44720675-dd33-40e5-da8a-cd79d6aedd84"
      },
      "outputs": [
        {
          "output_type": "execute_result",
          "data": {
            "text/plain": [
              "<torch._C.Generator at 0x7bb6847adb30>"
            ]
          },
          "metadata": {},
          "execution_count": 2
        }
      ],
      "source": [
        "import torch\n",
        "import torchvision\n",
        "\n",
        "# Setting seed for reproducibility\n",
        "torch.manual_seed(123987)"
      ]
    },
    {
      "cell_type": "markdown",
      "metadata": {
        "id": "6cd614f6e9f67ba3"
      },
      "source": [
        "\n",
        "\n",
        "```\n",
        "# This is formatted as code\n",
        "```\n",
        "\n",
        "## Loading EMNIST data\n"
      ]
    },
    {
      "cell_type": "code",
      "source": [
        "emnist_transform = torchvision.transforms.Compose([\n",
        "    torchvision.transforms.ToTensor()\n",
        "    # There was more here\n",
        "])"
      ],
      "metadata": {
        "id": "FpVYIIv4bWSa"
      },
      "execution_count": null,
      "outputs": []
    },
    {
      "cell_type": "code",
      "execution_count": null,
      "metadata": {
        "id": "715d10d4312be857",
        "colab": {
          "base_uri": "https://localhost:8080/"
        },
        "outputId": "5f54f72b-4c42-4a18-fbdf-138f964b3383"
      },
      "outputs": [
        {
          "output_type": "stream",
          "name": "stdout",
          "text": [
            "Downloading https://biometrics.nist.gov/cs_links/EMNIST/gzip.zip to ./data/EMNIST/raw/gzip.zip\n"
          ]
        },
        {
          "output_type": "stream",
          "name": "stderr",
          "text": [
            "100%|██████████| 562M/562M [00:42<00:00, 13.2MB/s]\n"
          ]
        },
        {
          "output_type": "stream",
          "name": "stdout",
          "text": [
            "Extracting ./data/EMNIST/raw/gzip.zip to ./data/EMNIST/raw\n"
          ]
        }
      ],
      "source": [
        "## Loading EMNIST data\n",
        "## PyTorch uses the Dataset class from torch.utils.data to handle access to datasets\n",
        "data_train = torchvision.datasets.EMNIST( # Training set\n",
        "    root='./data/',\n",
        "    train=True,\n",
        "    download=True,\n",
        "    transform=emnist_transform,  # rotates images and\n",
        "    split='letters'\n",
        ")\n",
        "\n",
        "data_test = torchvision.datasets.EMNIST( # Testing set\n",
        "    root='./data/',\n",
        "    train=False,\n",
        "    download=True,\n",
        "    transform=torchvision.transforms.ToTensor(),\n",
        "    split='letters'\n",
        ")"
      ]
    },
    {
      "cell_type": "markdown",
      "metadata": {
        "id": "4eded6558a038806"
      },
      "source": [
        "Let us examine the sizes of the two datasets as well as the shape of their elements, as we did in the lab."
      ]
    },
    {
      "cell_type": "code",
      "execution_count": null,
      "metadata": {
        "id": "7b3884b6a0a6ee0b",
        "colab": {
          "base_uri": "https://localhost:8080/"
        },
        "outputId": "c6f5aa82-3783-404d-d619-61220796d803"
      },
      "outputs": [
        {
          "output_type": "stream",
          "name": "stdout",
          "text": [
            "Number of training images: 124800\n",
            "Number of test images:     20800\n",
            "\n",
            "Each data element is an (image, label) pair.\n",
            "Shape of each image: torch.Size([1, 28, 28])\n"
          ]
        }
      ],
      "source": [
        "print(f\"Number of training images: {len(data_train)}\")\n",
        "print(f\"Number of test images:     {len(data_test)}\")\n",
        "print()\n",
        "print(\"Each data element is an (image, label) pair.\")\n",
        "print(f\"Shape of each image: {data_train[0][0].shape}\")"
      ]
    },
    {
      "cell_type": "markdown",
      "metadata": {
        "id": "87ffde2fe7216c57"
      },
      "source": [
        "To get a better idea of what the elements in a dataset look like, let us plot several EMNIST images."
      ]
    },
    {
      "cell_type": "code",
      "execution_count": null,
      "metadata": {
        "id": "bb3198cf36b2f613"
      },
      "outputs": [],
      "source": [
        "import matplotlib.pyplot as plt\n",
        "\n",
        "# Plotting function.  The argument 'images' is a tensor of\n",
        "# the form [1,28,28].  For plotting, we need flattened tensor\n",
        "# of the shape [28,28].  Hence, we use 'images[i][0]' in the\n",
        "# call of 'plt.imshow' below.\n",
        "def plot_data(images, labels):\n",
        "    cols, rows = 3, 3\n",
        "    for i in range(cols * rows):\n",
        "        plt.subplot(cols, rows, i + 1)\n",
        "        plt.tight_layout()\n",
        "        plt.imshow(images[i][0], cmap='gray')\n",
        "        plt.title(f\"Label: {labels[i]}\")\n",
        "        plt.xticks([])\n",
        "        plt.yticks([])\n",
        "        plt.axis(\"off\")\n",
        "    plt.show()"
      ]
    },
    {
      "cell_type": "code",
      "execution_count": null,
      "metadata": {
        "id": "a5c172013774e0d",
        "colab": {
          "base_uri": "https://localhost:8080/",
          "height": 463
        },
        "outputId": "9fe2f24d-5f15-46a3-f6c1-eaae69a01bb2"
      },
      "outputs": [
        {
          "output_type": "display_data",
          "data": {
            "text/plain": [
              "<Figure size 640x480 with 9 Axes>"
            ],
            "image/png": "[encoded data removed]"
          },
          "metadata": {}
        }
      ],
      "source": [
        "# Get a list of 9 images and their labels from the train data\n",
        "# starting from the index 'start_idx'\n",
        "start_idx = 500 #10994 59915\n",
        "\n",
        "data_subset = [data_train[i] for i in range(start_idx, start_idx + 9)]\n",
        "images, labels = zip(*data_subset)\n",
        "\n",
        "plot_data(images, labels)"
      ]
    },
    {
      "cell_type": "markdown",
      "metadata": {
        "id": "fe5cfaddc6d0e97f"
      },
      "source": [
        "We often need to draw random subsets of the training and testing data, known as batches. To help managing loads of segments of the datasets, PyTorch has the convenient `DataLoader` class."
      ]
    },
    {
      "cell_type": "code",
      "source": [
        "print(f\"Number of labels is {len(labels)}\")"
      ],
      "metadata": {
        "id": "HvvZhXRNAk_3",
        "colab": {
          "base_uri": "https://localhost:8080/"
        },
        "outputId": "4f2e5ab4-79cd-4fbe-e6e5-73c17a33e96f"
      },
      "execution_count": null,
      "outputs": [
        {
          "output_type": "stream",
          "name": "stdout",
          "text": [
            "Number of labels is 9\n"
          ]
        }
      ]
    },
    {
      "cell_type": "code",
      "execution_count": null,
      "metadata": {
        "id": "a6ea3214da6d0e9a",
        "colab": {
          "base_uri": "https://localhost:8080/",
          "height": 515
        },
        "outputId": "ee07e901-67fe-49d5-b710-8b9aa3294d60"
      },
      "outputs": [
        {
          "output_type": "stream",
          "name": "stdout",
          "text": [
            "Shape of images is: torch.Size([64, 1, 28, 28])\n",
            "Shape of labels is: torch.Size([64])\n",
            "\n"
          ]
        },
        {
          "output_type": "display_data",
          "data": {
            "text/plain": [
              "<Figure size 640x480 with 9 Axes>"
            ],
            "image/png": "[encoded data removed]"
          },
          "metadata": {}
        }
      ],
      "source": [
        "# Batch sizes for training and evaluation\n",
        "batch_size_train = 64\n",
        "batch_size_test  = 1000\n",
        "\n",
        "# We can use PyTorch dataloaders to get batches from datasets\n",
        "loader_train = torch.utils.data.DataLoader(data_train, batch_size=batch_size_train, shuffle=True)\n",
        "loader_test  = torch.utils.data.DataLoader(data_test,  batch_size=batch_size_test,  shuffle=False)\n",
        "\n",
        "# Create an iterator and draw the next batch\n",
        "images, labels = next(iter(loader_train))\n",
        "print(f\"Shape of images is: {images.shape}\")\n",
        "print(f\"Shape of labels is: {labels.shape}\")\n",
        "print()\n",
        "plot_data(images, labels)"
      ]
    },
    {
      "cell_type": "markdown",
      "metadata": {
        "id": "3d01d142024b5d6c"
      },
      "source": [
        "## Architecture\n",
        "Next, we create the deep neural network model to be used for the digit recognition."
      ]
    },
    {
      "cell_type": "code",
      "execution_count": null,
      "metadata": {
        "id": "1e60162df044e8e2"
      },
      "outputs": [],
      "source": [
        "import torch.nn as nn\n",
        "import torch.nn.functional as F"
      ]
    },
    {
      "cell_type": "code",
      "execution_count": null,
      "metadata": {
        "id": "2eafe68aa3a0e06d"
      },
      "outputs": [],
      "source": [
        "class Net(nn.Module):\n",
        "    def __init__(self, input_size=28 * 28, hidden_sizes = (128,128), output_size=27):\n",
        "        super(Net, self).__init__()\n",
        "        self.flatten = nn.Flatten()\n",
        "        self.fc1 = nn.Linear(input_size, hidden_sizes[0])\n",
        "        self.fc2 = nn.Linear(hidden_sizes[0], hidden_sizes[1])\n",
        "        self.fc3 = nn.Linear(hidden_sizes[1], output_size)\n",
        "\n",
        "    def forward(self, x):\n",
        "        x = self.flatten(x)\n",
        "        x = F.relu(self.fc1(x))\n",
        "        x = F.relu(self.fc2(x))\n",
        "        x = self.fc3(x)\n",
        "        return x\n"
      ]
    },
    {
      "cell_type": "code",
      "execution_count": null,
      "metadata": {
        "id": "6e67a43ebdf7b395"
      },
      "outputs": [],
      "source": [
        "# Use GPU for training if available\n",
        "device = torch.device(\"cuda:0\" if torch.cuda.is_available() else \"cpu\")\n",
        "\n",
        "# Instantiate the model\n",
        "model = Net().to(device)"
      ]
    },
    {
      "cell_type": "code",
      "execution_count": null,
      "metadata": {
        "id": "cc057bf398865fc6",
        "colab": {
          "base_uri": "https://localhost:8080/"
        },
        "outputId": "4bd9a0d3-3177-4126-e220-a6c6e71a83cc"
      },
      "outputs": [
        {
          "output_type": "stream",
          "name": "stdout",
          "text": [
            "[ 0.1101 -0.0218  0.0312 -0.0367  0.045   0.0758 -0.0259 -0.0782  0.0903\n",
            "  0.0026  0.1293 -0.0256 -0.0302  0.0643  0.0479  0.0333 -0.012   0.0265\n",
            " -0.0413  0.0093  0.0544 -0.0341 -0.01    0.0813 -0.0822  0.0659 -0.1034]\n"
          ]
        }
      ],
      "source": [
        "# Example of the output produced by the model\n",
        "with torch.no_grad():\n",
        "    print(model(images[0].to(device)).cpu().numpy().flatten().round(4))"
      ]
    },
    {
      "cell_type": "markdown",
      "metadata": {
        "id": "640615fe1a66e1c5"
      },
      "source": [
        "## Training\n",
        "\n",
        "Now that we have our model, we can specify the training parameters."
      ]
    },
    {
      "cell_type": "code",
      "execution_count": null,
      "metadata": {
        "id": "4a6952502b704c7a"
      },
      "outputs": [],
      "source": [
        "# Use the cross entropy loss for the multi-class classification\n",
        "criterion = nn.CrossEntropyLoss()\n",
        "\n",
        "# SGD optimization hyperparameters\n",
        "learning_rate = 0.1\n",
        "momentum = 0.7\n",
        "\n",
        "# Optimize using the Stochastic Gradient Descent\n",
        "# with the given learning rate and momentum\n",
        "optimizer = torch.optim.SGD(model.parameters(), lr=learning_rate, momentum=momentum)\n",
        "\n",
        "# Number of epochs for training\n",
        "num_epochs = 5"
      ]
    },
    {
      "cell_type": "code",
      "execution_count": null,
      "metadata": {
        "id": "86f1816f0f980023"
      },
      "outputs": [],
      "source": [
        "# Train 'model' through batches in one epoch using the 'criterion' loss function,\n",
        "# on the training dataset produced by the 'loader'.\n",
        "def train(model, criterion, optimizer, loader, epoch):\n",
        "    model.train()\n",
        "    running_loss = 0.0\n",
        "    for images, labels in loader:\n",
        "        images, labels = images.to(device), labels.to(device)\n",
        "        optimizer.zero_grad()\n",
        "        outputs = model(images)\n",
        "        loss = criterion(outputs, labels)\n",
        "        loss.backward()\n",
        "        optimizer.step()\n",
        "\n",
        "        running_loss += loss.item()\n",
        "    print(f\"Epoch: {epoch+1}/{num_epochs}   Training loss: {running_loss/len(loader) :.6f}\")\n"
      ]
    },
    {
      "cell_type": "code",
      "execution_count": null,
      "metadata": {
        "id": "4cabcfe7f61acd4e",
        "colab": {
          "base_uri": "https://localhost:8080/"
        },
        "outputId": "ec191ea4-9943-4ffa-dc4e-666c2c35d90f"
      },
      "outputs": [
        {
          "output_type": "stream",
          "name": "stdout",
          "text": [
            "Epoch: 1/5   Training loss: 0.723555\n",
            "Epoch: 2/5   Training loss: 0.384334\n",
            "Epoch: 3/5   Training loss: 0.325614\n",
            "Epoch: 4/5   Training loss: 0.291000\n",
            "Epoch: 5/5   Training loss: 0.268976\n"
          ]
        }
      ],
      "source": [
        "# Time to train the net!\n",
        "for epoch in range(num_epochs):\n",
        "    train(model, criterion, optimizer, loader_train, epoch)"
      ]
    },
    {
      "cell_type": "markdown",
      "metadata": {
        "id": "f7bdae59748d9ce4"
      },
      "source": [
        "## Testing\n",
        "Let us see is the model is capable of recognizing the digits."
      ]
    },
    {
      "cell_type": "code",
      "execution_count": null,
      "metadata": {
        "id": "52ba7250824dfede"
      },
      "outputs": [],
      "source": [
        "# Individual output\n",
        "images, labels = next(iter(loader_test))\n",
        "\n",
        "with torch.no_grad():\n",
        "    images,labels = images.to(device), labels.to(device)\n",
        "    outputs = model(images)"
      ]
    },
    {
      "cell_type": "markdown",
      "metadata": {
        "id": "2d295c6042b5c80d"
      },
      "source": [
        "What does the output of our model look like?"
      ]
    },
    {
      "cell_type": "code",
      "execution_count": null,
      "metadata": {
        "id": "9d1757dc7a9c4cc3",
        "colab": {
          "base_uri": "https://localhost:8080/"
        },
        "outputId": "b3d7486b-a333-4012-a8a8-19dfe305e3e5"
      },
      "outputs": [
        {
          "output_type": "stream",
          "name": "stdout",
          "text": [
            "Probabilities of the 27 classes:\n",
            "\n",
            "0: 0.000000 \n",
            "1: 0.993361 <---\n",
            "2: 0.000000 \n",
            "3: 0.000180 \n",
            "4: 0.000000 \n",
            "5: 0.001815 \n",
            "6: 0.000001 \n",
            "7: 0.000778 \n",
            "8: 0.000018 \n",
            "9: 0.000008 \n",
            "10: 0.000000 \n",
            "11: 0.000030 \n",
            "12: 0.000000 \n",
            "13: 0.000004 \n",
            "14: 0.001994 \n",
            "15: 0.000001 \n",
            "16: 0.000000 \n",
            "17: 0.000337 \n",
            "18: 0.001013 \n",
            "19: 0.000025 \n",
            "20: 0.000000 \n",
            "21: 0.000162 \n",
            "22: 0.000000 \n",
            "23: 0.000010 \n",
            "24: 0.000220 \n",
            "25: 0.000000 \n",
            "26: 0.000040 \n",
            "\n",
            "Letter corresponding to 1 with confidence 99.34\n"
          ]
        }
      ],
      "source": [
        "import numpy as np\n",
        "\n",
        "probit = F.softmax(outputs[0], dim=0).cpu().numpy()\n",
        "argmax = np.argmax(probit)\n",
        "\n",
        "print(\"Probabilities of the 27 classes:\\n\")\n",
        "for i in range(27):\n",
        "    arrow = \"<---\" if i == argmax else \"\"\n",
        "    print(f\"{i}: {probit[i]:.6f} {arrow}\")\n",
        "\n",
        "print()\n",
        "print(f\"Letter corresponding to {argmax} with confidence {probit[argmax] * 100. :.2f}\")"
      ]
    },
    {
      "cell_type": "markdown",
      "metadata": {
        "id": "7d89978f4f0f96d9"
      },
      "source": [
        "Here are some examples of digits together with their inferred classes."
      ]
    },
    {
      "cell_type": "code",
      "execution_count": null,
      "metadata": {
        "colab": {
          "base_uri": "https://localhost:8080/",
          "height": 480
        },
        "id": "7fa698b3698e193d",
        "outputId": "99408e1c-2c5e-41d8-e473-ffc4c5653d06"
      },
      "outputs": [
        {
          "output_type": "stream",
          "name": "stdout",
          "text": [
            "[(1, 1), (1, 1), (1, 1), (1, 1), (1, 1), (1, 1), (1, 1), (1, 1), (1, 1)]\n"
          ]
        },
        {
          "output_type": "display_data",
          "data": {
            "text/plain": [
              "<Figure size 640x480 with 9 Axes>"
            ],
            "image/png": "[encoded data removed]"
          },
          "metadata": {}
        }
      ],
      "source": [
        "# Let's get a batch of 9 images staring from index 'start_idx'\n",
        "start_idx = 0\n",
        "plot_batch = torch.utils.data.Subset(data_test, indices=range(start_idx, start_idx + 9))\n",
        "images, labels = next(iter(torch.utils.data.DataLoader(plot_batch, batch_size=9)))\n",
        "\n",
        "# Note that torch.max(outputs, dim=1) gives a pair (values, indices) tensors.\n",
        "# We only need the indices, for these encode our predictions.\n",
        "with torch.no_grad():\n",
        "    images, labels = images.to(device), labels.to(device)\n",
        "    outputs = model(images)\n",
        "\n",
        "_, predicted = torch.max(outputs, 1)\n",
        "predicted = predicted.cpu().tolist()\n",
        "labels    = labels.cpu().tolist()\n",
        "pairs_lab_pred = list(zip(labels, predicted))\n",
        "print(pairs_lab_pred)\n",
        "plot_data(images.cpu(), pairs_lab_pred)\n"
      ]
    },
    {
      "cell_type": "markdown",
      "metadata": {
        "id": "195971420aaae1bd"
      },
      "source": [
        "How many digits from the testing data did we get right?"
      ]
    },
    {
      "cell_type": "code",
      "execution_count": null,
      "metadata": {
        "id": "f083160ee9b9d313"
      },
      "outputs": [],
      "source": [
        "# Test the model\n",
        "def test(model, loader):\n",
        "    model.eval()\n",
        "    correct, total = 0, 0\n",
        "    with torch.no_grad():\n",
        "        for images, labels in loader:\n",
        "            images, labels = images.to(device), labels.to(device)\n",
        "            outputs = model(images)\n",
        "            _, predicted = torch.max(outputs, 1)\n",
        "            total += labels.size(0) # labels.size() is [1000]\n",
        "            correct += (predicted == labels).sum().item()\n",
        "    print(f\"Accuracy: {100 * correct / total:.2f}%\")\n",
        "    model.train()"
      ]
    },
    {
      "cell_type": "code",
      "execution_count": null,
      "metadata": {
        "id": "7c9adb1a8c0e6317",
        "colab": {
          "base_uri": "https://localhost:8080/"
        },
        "outputId": "3e8f1e1c-e4ff-4897-be5f-aedd8f64a518"
      },
      "outputs": [
        {
          "output_type": "stream",
          "name": "stdout",
          "text": [
            "Accuracy: 89.29%\n"
          ]
        }
      ],
      "source": [
        "# Print the accuracy of our model\n",
        "test(model, loader_test)"
      ]
    }
  ]
}